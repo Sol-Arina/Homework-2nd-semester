{
 "cells": [
  {
   "cell_type": "code",
   "execution_count": 112,
   "id": "40217a5f",
   "metadata": {},
   "outputs": [],
   "source": [
    "import numpy as np\n",
    "import pandas as pd\n",
    "import matplotlib.pyplot as plt\n",
    "from sklearn.datasets import load_iris\n",
    "from sklearn.ensemble import RandomForestClassifier, StackingClassifier\n",
    "from sklearn.linear_model import LogisticRegression\n",
    "from sklearn.model_selection import train_test_split\n",
    "from sklearn.neighbors import KNeighborsClassifier\n",
    "from sklearn.tree import DecisionTreeRegressor\n",
    "from sklearn.ensemble import BaggingRegressor, RandomForestRegressor\n",
    "from xgboost import XGBClassifier, XGBRegressor\n",
    "import warnings\n",
    "from sklearn.model_selection import KFold\n",
    "from sklearn.metrics import confusion_matrix, mean_squared_error\n",
    "import matplotlib.pyplot as plt\n",
    "import lightgbm as lgb\n",
    "from sklearn.model_selection import GridSearchCV\n",
    "import catboost\n",
    "from catboost import *\n",
    "from catboost import CatBoostClassifier"
   ]
  },
  {
   "cell_type": "markdown",
   "id": "c26c0b97-4b35-4392-8fa7-e7408ba284a0",
   "metadata": {},
   "source": [
    "# Задание\n",
    "\n",
    "Решите задачу с данными train_small.csv, test_small.csv с помощью CatBoost, xgboost и LightGBM. Найдите оптимальные параметры. Сравните скорость обучения и качество. "
   ]
  },
  {
   "cell_type": "markdown",
   "id": "db7d77dd",
   "metadata": {},
   "source": [
    "### CatBoost"
   ]
  },
  {
   "cell_type": "code",
   "execution_count": 2,
   "id": "c1b0f74c-5c14-4730-865a-669ee4eebf00",
   "metadata": {},
   "outputs": [],
   "source": [
    "X_train = pd.read_csv('train_small.csv')\n",
    "X_test = pd.read_csv('test_small.csv')\n",
    "\n",
    "ytrain = X_train['Disbursed']\n",
    "Xtrain = X_train.copy()\n",
    "del Xtrain['Disbursed']\n",
    "\n",
    "ytest = X_test['Disbursed']\n",
    "Xtest = X_test.copy()\n",
    "del Xtest['Disbursed']"
   ]
  },
  {
   "cell_type": "code",
   "execution_count": 3,
   "id": "83d497c1",
   "metadata": {},
   "outputs": [],
   "source": [
    "X_train = X_train.drop('Unnamed: 0', axis=1)\n",
    "X_test = X_test.drop('Unnamed: 0', axis=1)"
   ]
  },
  {
   "cell_type": "code",
   "execution_count": 4,
   "id": "84821e7e-5760-4265-8655-8a89e5e51a89",
   "metadata": {
    "scrolled": true
   },
   "outputs": [
    {
     "data": {
      "text/html": [
       "<div>\n",
       "<style scoped>\n",
       "    .dataframe tbody tr th:only-of-type {\n",
       "        vertical-align: middle;\n",
       "    }\n",
       "\n",
       "    .dataframe tbody tr th {\n",
       "        vertical-align: top;\n",
       "    }\n",
       "\n",
       "    .dataframe thead th {\n",
       "        text-align: right;\n",
       "    }\n",
       "</style>\n",
       "<table border=\"1\" class=\"dataframe\">\n",
       "  <thead>\n",
       "    <tr style=\"text-align: right;\">\n",
       "      <th></th>\n",
       "      <th>Existing_EMI</th>\n",
       "      <th>Loan_Amount_Applied</th>\n",
       "      <th>Loan_Tenure_Applied</th>\n",
       "      <th>Monthly_Income</th>\n",
       "      <th>Var4</th>\n",
       "      <th>Var5</th>\n",
       "      <th>Age</th>\n",
       "      <th>EMI_Loan_Submitted_Missing</th>\n",
       "      <th>Interest_Rate_Missing</th>\n",
       "      <th>Loan_Amount_Submitted_Missing</th>\n",
       "      <th>...</th>\n",
       "      <th>Var2_3</th>\n",
       "      <th>Var2_4</th>\n",
       "      <th>Var2_5</th>\n",
       "      <th>Var2_6</th>\n",
       "      <th>Mobile_Verified_0</th>\n",
       "      <th>Mobile_Verified_1</th>\n",
       "      <th>Source_0</th>\n",
       "      <th>Source_1</th>\n",
       "      <th>Source_2</th>\n",
       "      <th>Disbursed</th>\n",
       "    </tr>\n",
       "  </thead>\n",
       "  <tbody>\n",
       "    <tr>\n",
       "      <th>802</th>\n",
       "      <td>3666.0</td>\n",
       "      <td>200000.0</td>\n",
       "      <td>4.0</td>\n",
       "      <td>40000</td>\n",
       "      <td>5</td>\n",
       "      <td>15</td>\n",
       "      <td>25</td>\n",
       "      <td>0</td>\n",
       "      <td>0</td>\n",
       "      <td>0</td>\n",
       "      <td>...</td>\n",
       "      <td>0</td>\n",
       "      <td>0</td>\n",
       "      <td>0</td>\n",
       "      <td>0</td>\n",
       "      <td>0</td>\n",
       "      <td>1</td>\n",
       "      <td>0</td>\n",
       "      <td>1</td>\n",
       "      <td>0</td>\n",
       "      <td>0.0</td>\n",
       "    </tr>\n",
       "    <tr>\n",
       "      <th>19287</th>\n",
       "      <td>0.0</td>\n",
       "      <td>30000.0</td>\n",
       "      <td>3.0</td>\n",
       "      <td>30000</td>\n",
       "      <td>1</td>\n",
       "      <td>0</td>\n",
       "      <td>27</td>\n",
       "      <td>1</td>\n",
       "      <td>1</td>\n",
       "      <td>1</td>\n",
       "      <td>...</td>\n",
       "      <td>0</td>\n",
       "      <td>0</td>\n",
       "      <td>0</td>\n",
       "      <td>0</td>\n",
       "      <td>1</td>\n",
       "      <td>0</td>\n",
       "      <td>0</td>\n",
       "      <td>1</td>\n",
       "      <td>0</td>\n",
       "      <td>0.0</td>\n",
       "    </tr>\n",
       "    <tr>\n",
       "      <th>16065</th>\n",
       "      <td>0.0</td>\n",
       "      <td>1000000.0</td>\n",
       "      <td>5.0</td>\n",
       "      <td>17350</td>\n",
       "      <td>5</td>\n",
       "      <td>1</td>\n",
       "      <td>51</td>\n",
       "      <td>0</td>\n",
       "      <td>0</td>\n",
       "      <td>0</td>\n",
       "      <td>...</td>\n",
       "      <td>0</td>\n",
       "      <td>0</td>\n",
       "      <td>0</td>\n",
       "      <td>0</td>\n",
       "      <td>0</td>\n",
       "      <td>1</td>\n",
       "      <td>0</td>\n",
       "      <td>0</td>\n",
       "      <td>1</td>\n",
       "      <td>0.0</td>\n",
       "    </tr>\n",
       "    <tr>\n",
       "      <th>247</th>\n",
       "      <td>12000.0</td>\n",
       "      <td>500000.0</td>\n",
       "      <td>5.0</td>\n",
       "      <td>23007</td>\n",
       "      <td>1</td>\n",
       "      <td>0</td>\n",
       "      <td>31</td>\n",
       "      <td>1</td>\n",
       "      <td>1</td>\n",
       "      <td>1</td>\n",
       "      <td>...</td>\n",
       "      <td>0</td>\n",
       "      <td>0</td>\n",
       "      <td>0</td>\n",
       "      <td>0</td>\n",
       "      <td>1</td>\n",
       "      <td>0</td>\n",
       "      <td>0</td>\n",
       "      <td>1</td>\n",
       "      <td>0</td>\n",
       "      <td>0.0</td>\n",
       "    </tr>\n",
       "    <tr>\n",
       "      <th>6404</th>\n",
       "      <td>0.0</td>\n",
       "      <td>500000.0</td>\n",
       "      <td>5.0</td>\n",
       "      <td>30000</td>\n",
       "      <td>3</td>\n",
       "      <td>12</td>\n",
       "      <td>32</td>\n",
       "      <td>1</td>\n",
       "      <td>1</td>\n",
       "      <td>0</td>\n",
       "      <td>...</td>\n",
       "      <td>0</td>\n",
       "      <td>0</td>\n",
       "      <td>0</td>\n",
       "      <td>1</td>\n",
       "      <td>0</td>\n",
       "      <td>1</td>\n",
       "      <td>1</td>\n",
       "      <td>0</td>\n",
       "      <td>0</td>\n",
       "      <td>0.0</td>\n",
       "    </tr>\n",
       "  </tbody>\n",
       "</table>\n",
       "<p>5 rows × 50 columns</p>\n",
       "</div>"
      ],
      "text/plain": [
       "       Existing_EMI  Loan_Amount_Applied  Loan_Tenure_Applied  Monthly_Income  \\\n",
       "802          3666.0             200000.0                  4.0           40000   \n",
       "19287           0.0              30000.0                  3.0           30000   \n",
       "16065           0.0            1000000.0                  5.0           17350   \n",
       "247         12000.0             500000.0                  5.0           23007   \n",
       "6404            0.0             500000.0                  5.0           30000   \n",
       "\n",
       "       Var4  Var5  Age  EMI_Loan_Submitted_Missing  Interest_Rate_Missing  \\\n",
       "802       5    15   25                           0                      0   \n",
       "19287     1     0   27                           1                      1   \n",
       "16065     5     1   51                           0                      0   \n",
       "247       1     0   31                           1                      1   \n",
       "6404      3    12   32                           1                      1   \n",
       "\n",
       "       Loan_Amount_Submitted_Missing  ...  Var2_3  Var2_4  Var2_5  Var2_6  \\\n",
       "802                                0  ...       0       0       0       0   \n",
       "19287                              1  ...       0       0       0       0   \n",
       "16065                              0  ...       0       0       0       0   \n",
       "247                                1  ...       0       0       0       0   \n",
       "6404                               0  ...       0       0       0       1   \n",
       "\n",
       "       Mobile_Verified_0  Mobile_Verified_1  Source_0  Source_1  Source_2  \\\n",
       "802                    0                  1         0         1         0   \n",
       "19287                  1                  0         0         1         0   \n",
       "16065                  0                  1         0         0         1   \n",
       "247                    1                  0         0         1         0   \n",
       "6404                   0                  1         1         0         0   \n",
       "\n",
       "       Disbursed  \n",
       "802          0.0  \n",
       "19287        0.0  \n",
       "16065        0.0  \n",
       "247          0.0  \n",
       "6404         0.0  \n",
       "\n",
       "[5 rows x 50 columns]"
      ]
     },
     "execution_count": 4,
     "metadata": {},
     "output_type": "execute_result"
    }
   ],
   "source": [
    "X_train.sample(5)"
   ]
  },
  {
   "cell_type": "code",
   "execution_count": 5,
   "id": "ed42ce2e",
   "metadata": {},
   "outputs": [
    {
     "data": {
      "text/html": [
       "<div>\n",
       "<style scoped>\n",
       "    .dataframe tbody tr th:only-of-type {\n",
       "        vertical-align: middle;\n",
       "    }\n",
       "\n",
       "    .dataframe tbody tr th {\n",
       "        vertical-align: top;\n",
       "    }\n",
       "\n",
       "    .dataframe thead th {\n",
       "        text-align: right;\n",
       "    }\n",
       "</style>\n",
       "<table border=\"1\" class=\"dataframe\">\n",
       "  <thead>\n",
       "    <tr style=\"text-align: right;\">\n",
       "      <th></th>\n",
       "      <th>Existing_EMI</th>\n",
       "      <th>Loan_Amount_Applied</th>\n",
       "      <th>Loan_Tenure_Applied</th>\n",
       "      <th>Monthly_Income</th>\n",
       "      <th>Var4</th>\n",
       "      <th>Var5</th>\n",
       "      <th>Age</th>\n",
       "      <th>EMI_Loan_Submitted_Missing</th>\n",
       "      <th>Interest_Rate_Missing</th>\n",
       "      <th>Loan_Amount_Submitted_Missing</th>\n",
       "      <th>...</th>\n",
       "      <th>Var2_3</th>\n",
       "      <th>Var2_4</th>\n",
       "      <th>Var2_5</th>\n",
       "      <th>Var2_6</th>\n",
       "      <th>Mobile_Verified_0</th>\n",
       "      <th>Mobile_Verified_1</th>\n",
       "      <th>Source_0</th>\n",
       "      <th>Source_1</th>\n",
       "      <th>Source_2</th>\n",
       "      <th>Disbursed</th>\n",
       "    </tr>\n",
       "  </thead>\n",
       "  <tbody>\n",
       "    <tr>\n",
       "      <th>539</th>\n",
       "      <td>0.0</td>\n",
       "      <td>0.0</td>\n",
       "      <td>0.0</td>\n",
       "      <td>37000</td>\n",
       "      <td>3</td>\n",
       "      <td>5</td>\n",
       "      <td>38</td>\n",
       "      <td>1</td>\n",
       "      <td>1</td>\n",
       "      <td>0</td>\n",
       "      <td>...</td>\n",
       "      <td>0</td>\n",
       "      <td>0</td>\n",
       "      <td>0</td>\n",
       "      <td>0</td>\n",
       "      <td>0</td>\n",
       "      <td>1</td>\n",
       "      <td>0</td>\n",
       "      <td>1</td>\n",
       "      <td>0</td>\n",
       "      <td>0.0</td>\n",
       "    </tr>\n",
       "    <tr>\n",
       "      <th>9185</th>\n",
       "      <td>3500.0</td>\n",
       "      <td>150000.0</td>\n",
       "      <td>5.0</td>\n",
       "      <td>10000</td>\n",
       "      <td>1</td>\n",
       "      <td>0</td>\n",
       "      <td>35</td>\n",
       "      <td>1</td>\n",
       "      <td>1</td>\n",
       "      <td>1</td>\n",
       "      <td>...</td>\n",
       "      <td>0</td>\n",
       "      <td>0</td>\n",
       "      <td>0</td>\n",
       "      <td>1</td>\n",
       "      <td>1</td>\n",
       "      <td>0</td>\n",
       "      <td>1</td>\n",
       "      <td>0</td>\n",
       "      <td>0</td>\n",
       "      <td>0.0</td>\n",
       "    </tr>\n",
       "    <tr>\n",
       "      <th>8468</th>\n",
       "      <td>0.0</td>\n",
       "      <td>50000.0</td>\n",
       "      <td>3.0</td>\n",
       "      <td>20000</td>\n",
       "      <td>1</td>\n",
       "      <td>0</td>\n",
       "      <td>29</td>\n",
       "      <td>1</td>\n",
       "      <td>1</td>\n",
       "      <td>1</td>\n",
       "      <td>...</td>\n",
       "      <td>0</td>\n",
       "      <td>0</td>\n",
       "      <td>0</td>\n",
       "      <td>0</td>\n",
       "      <td>1</td>\n",
       "      <td>0</td>\n",
       "      <td>0</td>\n",
       "      <td>1</td>\n",
       "      <td>0</td>\n",
       "      <td>0.0</td>\n",
       "    </tr>\n",
       "    <tr>\n",
       "      <th>5132</th>\n",
       "      <td>2800.0</td>\n",
       "      <td>30000.0</td>\n",
       "      <td>1.0</td>\n",
       "      <td>12000</td>\n",
       "      <td>1</td>\n",
       "      <td>0</td>\n",
       "      <td>26</td>\n",
       "      <td>1</td>\n",
       "      <td>1</td>\n",
       "      <td>1</td>\n",
       "      <td>...</td>\n",
       "      <td>0</td>\n",
       "      <td>0</td>\n",
       "      <td>0</td>\n",
       "      <td>0</td>\n",
       "      <td>1</td>\n",
       "      <td>0</td>\n",
       "      <td>0</td>\n",
       "      <td>1</td>\n",
       "      <td>0</td>\n",
       "      <td>0.0</td>\n",
       "    </tr>\n",
       "    <tr>\n",
       "      <th>9640</th>\n",
       "      <td>15000.0</td>\n",
       "      <td>500000.0</td>\n",
       "      <td>5.0</td>\n",
       "      <td>25200</td>\n",
       "      <td>1</td>\n",
       "      <td>0</td>\n",
       "      <td>28</td>\n",
       "      <td>1</td>\n",
       "      <td>1</td>\n",
       "      <td>1</td>\n",
       "      <td>...</td>\n",
       "      <td>0</td>\n",
       "      <td>0</td>\n",
       "      <td>0</td>\n",
       "      <td>0</td>\n",
       "      <td>1</td>\n",
       "      <td>0</td>\n",
       "      <td>0</td>\n",
       "      <td>1</td>\n",
       "      <td>0</td>\n",
       "      <td>0.0</td>\n",
       "    </tr>\n",
       "  </tbody>\n",
       "</table>\n",
       "<p>5 rows × 50 columns</p>\n",
       "</div>"
      ],
      "text/plain": [
       "      Existing_EMI  Loan_Amount_Applied  Loan_Tenure_Applied  Monthly_Income  \\\n",
       "539            0.0                  0.0                  0.0           37000   \n",
       "9185        3500.0             150000.0                  5.0           10000   \n",
       "8468           0.0              50000.0                  3.0           20000   \n",
       "5132        2800.0              30000.0                  1.0           12000   \n",
       "9640       15000.0             500000.0                  5.0           25200   \n",
       "\n",
       "      Var4  Var5  Age  EMI_Loan_Submitted_Missing  Interest_Rate_Missing  \\\n",
       "539      3     5   38                           1                      1   \n",
       "9185     1     0   35                           1                      1   \n",
       "8468     1     0   29                           1                      1   \n",
       "5132     1     0   26                           1                      1   \n",
       "9640     1     0   28                           1                      1   \n",
       "\n",
       "      Loan_Amount_Submitted_Missing  ...  Var2_3  Var2_4  Var2_5  Var2_6  \\\n",
       "539                               0  ...       0       0       0       0   \n",
       "9185                              1  ...       0       0       0       1   \n",
       "8468                              1  ...       0       0       0       0   \n",
       "5132                              1  ...       0       0       0       0   \n",
       "9640                              1  ...       0       0       0       0   \n",
       "\n",
       "      Mobile_Verified_0  Mobile_Verified_1  Source_0  Source_1  Source_2  \\\n",
       "539                   0                  1         0         1         0   \n",
       "9185                  1                  0         1         0         0   \n",
       "8468                  1                  0         0         1         0   \n",
       "5132                  1                  0         0         1         0   \n",
       "9640                  1                  0         0         1         0   \n",
       "\n",
       "      Disbursed  \n",
       "539         0.0  \n",
       "9185        0.0  \n",
       "8468        0.0  \n",
       "5132        0.0  \n",
       "9640        0.0  \n",
       "\n",
       "[5 rows x 50 columns]"
      ]
     },
     "execution_count": 5,
     "metadata": {},
     "output_type": "execute_result"
    }
   ],
   "source": [
    "X_test.sample(5)"
   ]
  },
  {
   "cell_type": "code",
   "execution_count": 6,
   "id": "316209b1",
   "metadata": {},
   "outputs": [
    {
     "name": "stdout",
     "output_type": "stream",
     "text": [
      "[0, 1, 2, 3, 4, 5, 6, 7, 8, 9, 10, 11, 12, 13, 14, 15, 16, 17, 18, 19, 20, 21, 22, 23, 24, 25, 26, 27, 28, 29, 30, 31, 32, 33, 34, 35, 36, 37, 38, 39, 40, 41, 42, 43, 44, 45, 46, 47, 48, 49]\n"
     ]
    }
   ],
   "source": [
    "cat_features = list(range(0, X_train.shape[1]))\n",
    "print(cat_features)"
   ]
  },
  {
   "cell_type": "code",
   "execution_count": 7,
   "id": "b617a958",
   "metadata": {},
   "outputs": [
    {
     "name": "stdout",
     "output_type": "stream",
     "text": [
      "Model is fitted: True\n",
      "Model params:\n",
      "{'iterations': 5, 'learning_rate': 0.1}\n"
     ]
    }
   ],
   "source": [
    "from catboost import CatBoostClassifier\n",
    "model = CatBoostClassifier(\n",
    "    iterations=5,\n",
    "    learning_rate=0.1,\n",
    ")\n",
    "model.fit(\n",
    "    Xtrain, ytrain,\n",
    "    \n",
    "    eval_set=(Xtest, ytest),  # то же самое что train test\n",
    "    verbose=False # T many comments F no comments\n",
    ")\n",
    "print('Model is fitted: ' + str(model.is_fitted()))\n",
    "print('Model params:')\n",
    "print(model.get_params())"
   ]
  },
  {
   "cell_type": "code",
   "execution_count": 8,
   "id": "b0b48993",
   "metadata": {},
   "outputs": [
    {
     "name": "stdout",
     "output_type": "stream",
     "text": [
      "Learning rate set to 0.159162\n",
      "0:\tlearn: 0.4208521\ttest: 0.4212519\tbest: 0.4212519 (0)\ttotal: 12.6ms\tremaining: 1.88s\n",
      "3:\tlearn: 0.1261445\ttest: 0.1269266\tbest: 0.1269266 (3)\ttotal: 42.7ms\tremaining: 1.56s\n",
      "6:\tlearn: 0.0836921\ttest: 0.0848594\tbest: 0.0848594 (6)\ttotal: 65.7ms\tremaining: 1.34s\n",
      "9:\tlearn: 0.0725179\ttest: 0.0737662\tbest: 0.0737662 (9)\ttotal: 90.4ms\tremaining: 1.26s\n",
      "12:\tlearn: 0.0687823\ttest: 0.0703396\tbest: 0.0703396 (12)\ttotal: 117ms\tremaining: 1.23s\n",
      "15:\tlearn: 0.0661476\ttest: 0.0685035\tbest: 0.0685035 (15)\ttotal: 142ms\tremaining: 1.19s\n",
      "18:\tlearn: 0.0644855\ttest: 0.0676408\tbest: 0.0676408 (18)\ttotal: 166ms\tremaining: 1.15s\n",
      "21:\tlearn: 0.0634522\ttest: 0.0671344\tbest: 0.0671344 (21)\ttotal: 189ms\tremaining: 1.1s\n",
      "24:\tlearn: 0.0624117\ttest: 0.0670450\tbest: 0.0670450 (24)\ttotal: 215ms\tremaining: 1.07s\n",
      "27:\tlearn: 0.0615167\ttest: 0.0668694\tbest: 0.0668694 (27)\ttotal: 246ms\tremaining: 1.07s\n",
      "30:\tlearn: 0.0606044\ttest: 0.0669816\tbest: 0.0668694 (27)\ttotal: 270ms\tremaining: 1.03s\n",
      "33:\tlearn: 0.0598133\ttest: 0.0668929\tbest: 0.0668694 (27)\ttotal: 293ms\tremaining: 1000ms\n",
      "36:\tlearn: 0.0590353\ttest: 0.0669156\tbest: 0.0668451 (35)\ttotal: 321ms\tremaining: 980ms\n",
      "39:\tlearn: 0.0585856\ttest: 0.0669430\tbest: 0.0668451 (35)\ttotal: 346ms\tremaining: 950ms\n",
      "42:\tlearn: 0.0580861\ttest: 0.0668321\tbest: 0.0668321 (42)\ttotal: 369ms\tremaining: 919ms\n",
      "45:\tlearn: 0.0572707\ttest: 0.0668589\tbest: 0.0668321 (42)\ttotal: 393ms\tremaining: 888ms\n",
      "48:\tlearn: 0.0568243\ttest: 0.0669033\tbest: 0.0668321 (42)\ttotal: 415ms\tremaining: 854ms\n",
      "51:\tlearn: 0.0562908\ttest: 0.0668214\tbest: 0.0668214 (51)\ttotal: 437ms\tremaining: 823ms\n",
      "54:\tlearn: 0.0559021\ttest: 0.0669342\tbest: 0.0668214 (51)\ttotal: 464ms\tremaining: 802ms\n",
      "57:\tlearn: 0.0554503\ttest: 0.0670353\tbest: 0.0668214 (51)\ttotal: 487ms\tremaining: 772ms\n",
      "60:\tlearn: 0.0549016\ttest: 0.0671577\tbest: 0.0668214 (51)\ttotal: 511ms\tremaining: 745ms\n",
      "63:\tlearn: 0.0542428\ttest: 0.0671880\tbest: 0.0668214 (51)\ttotal: 544ms\tremaining: 731ms\n",
      "66:\tlearn: 0.0538608\ttest: 0.0672541\tbest: 0.0668214 (51)\ttotal: 582ms\tremaining: 721ms\n",
      "69:\tlearn: 0.0535722\ttest: 0.0673556\tbest: 0.0668214 (51)\ttotal: 612ms\tremaining: 700ms\n",
      "72:\tlearn: 0.0531098\ttest: 0.0674124\tbest: 0.0668214 (51)\ttotal: 637ms\tremaining: 672ms\n",
      "75:\tlearn: 0.0528590\ttest: 0.0675572\tbest: 0.0668214 (51)\ttotal: 662ms\tremaining: 644ms\n",
      "78:\tlearn: 0.0524423\ttest: 0.0676968\tbest: 0.0668214 (51)\ttotal: 691ms\tremaining: 621ms\n",
      "81:\tlearn: 0.0519913\ttest: 0.0676868\tbest: 0.0668214 (51)\ttotal: 719ms\tremaining: 596ms\n",
      "84:\tlearn: 0.0514027\ttest: 0.0678440\tbest: 0.0668214 (51)\ttotal: 744ms\tremaining: 569ms\n",
      "87:\tlearn: 0.0509512\ttest: 0.0681597\tbest: 0.0668214 (51)\ttotal: 768ms\tremaining: 541ms\n",
      "90:\tlearn: 0.0504844\ttest: 0.0681567\tbest: 0.0668214 (51)\ttotal: 792ms\tremaining: 514ms\n",
      "93:\tlearn: 0.0499637\ttest: 0.0682568\tbest: 0.0668214 (51)\ttotal: 816ms\tremaining: 486ms\n",
      "96:\tlearn: 0.0495817\ttest: 0.0682825\tbest: 0.0668214 (51)\ttotal: 837ms\tremaining: 457ms\n",
      "99:\tlearn: 0.0493530\ttest: 0.0683638\tbest: 0.0668214 (51)\ttotal: 859ms\tremaining: 429ms\n",
      "102:\tlearn: 0.0489897\ttest: 0.0684263\tbest: 0.0668214 (51)\ttotal: 884ms\tremaining: 403ms\n",
      "105:\tlearn: 0.0486582\ttest: 0.0685106\tbest: 0.0668214 (51)\ttotal: 911ms\tremaining: 378ms\n",
      "108:\tlearn: 0.0483968\ttest: 0.0684997\tbest: 0.0668214 (51)\ttotal: 937ms\tremaining: 353ms\n",
      "111:\tlearn: 0.0480469\ttest: 0.0685493\tbest: 0.0668214 (51)\ttotal: 960ms\tremaining: 326ms\n",
      "114:\tlearn: 0.0476759\ttest: 0.0686387\tbest: 0.0668214 (51)\ttotal: 989ms\tremaining: 301ms\n",
      "117:\tlearn: 0.0473712\ttest: 0.0687421\tbest: 0.0668214 (51)\ttotal: 1.02s\tremaining: 278ms\n",
      "120:\tlearn: 0.0470477\ttest: 0.0687894\tbest: 0.0668214 (51)\ttotal: 1.06s\tremaining: 254ms\n",
      "123:\tlearn: 0.0467390\ttest: 0.0690169\tbest: 0.0668214 (51)\ttotal: 1.09s\tremaining: 228ms\n",
      "126:\tlearn: 0.0465367\ttest: 0.0689870\tbest: 0.0668214 (51)\ttotal: 1.12s\tremaining: 203ms\n",
      "129:\tlearn: 0.0461022\ttest: 0.0690541\tbest: 0.0668214 (51)\ttotal: 1.15s\tremaining: 177ms\n",
      "132:\tlearn: 0.0457941\ttest: 0.0689862\tbest: 0.0668214 (51)\ttotal: 1.18s\tremaining: 150ms\n",
      "135:\tlearn: 0.0454218\ttest: 0.0691559\tbest: 0.0668214 (51)\ttotal: 1.2s\tremaining: 124ms\n",
      "138:\tlearn: 0.0451217\ttest: 0.0692976\tbest: 0.0668214 (51)\ttotal: 1.23s\tremaining: 97.4ms\n",
      "141:\tlearn: 0.0449034\ttest: 0.0692838\tbest: 0.0668214 (51)\ttotal: 1.25s\tremaining: 70.7ms\n",
      "144:\tlearn: 0.0444869\ttest: 0.0693844\tbest: 0.0668214 (51)\ttotal: 1.28s\tremaining: 44.2ms\n",
      "147:\tlearn: 0.0439938\ttest: 0.0695795\tbest: 0.0668214 (51)\ttotal: 1.31s\tremaining: 17.8ms\n",
      "149:\tlearn: 0.0437437\ttest: 0.0695399\tbest: 0.0668214 (51)\ttotal: 1.33s\tremaining: 0us\n",
      "\n",
      "bestTest = 0.06682137126\n",
      "bestIteration = 51\n",
      "\n",
      "Shrink model to first 52 iterations.\n"
     ]
    },
    {
     "data": {
      "text/plain": [
       "<catboost.core.CatBoostClassifier at 0x1db59b50520>"
      ]
     },
     "execution_count": 8,
     "metadata": {},
     "output_type": "execute_result"
    }
   ],
   "source": [
    "from catboost import CatBoostClassifier\n",
    "model = CatBoostClassifier(\n",
    "    iterations=150,\n",
    "#     verbose=5,\n",
    ")\n",
    "model.fit(\n",
    "    Xtrain, ytrain,\n",
    "    \n",
    "    eval_set=(Xtest, ytest),\n",
    "    verbose = 3 # уровень подробностей\n",
    ")"
   ]
  },
  {
   "cell_type": "code",
   "execution_count": 9,
   "id": "7478f197",
   "metadata": {},
   "outputs": [
    {
     "data": {
      "application/vnd.jupyter.widget-view+json": {
       "model_id": "8e957f97a87a4566a0a8b6e15106505a",
       "version_major": 2,
       "version_minor": 0
      },
      "text/plain": [
       "MetricVisualizer(layout=Layout(align_self='stretch', height='500px'))"
      ]
     },
     "metadata": {},
     "output_type": "display_data"
    },
    {
     "data": {
      "text/plain": [
       "<catboost.core.CatBoostClassifier at 0x1db59b50fd0>"
      ]
     },
     "execution_count": 9,
     "metadata": {},
     "output_type": "execute_result"
    }
   ],
   "source": [
    "from catboost import CatBoostClassifier\n",
    "model = CatBoostClassifier(\n",
    "    iterations=50,\n",
    "    random_seed=63,\n",
    "    learning_rate=0.5,\n",
    "    custom_loss=['AUC', 'Accuracy']\n",
    ")\n",
    "model.fit(\n",
    "    Xtrain, ytrain,\n",
    "    \n",
    "    eval_set=(Xtest, ytest),\n",
    "    verbose=False,\n",
    "    plot=True\n",
    ")"
   ]
  },
  {
   "cell_type": "code",
   "execution_count": 10,
   "id": "14f8fa93",
   "metadata": {},
   "outputs": [
    {
     "data": {
      "application/vnd.jupyter.widget-view+json": {
       "model_id": "f2aac092f4cf44f093071beebe831345",
       "version_major": 2,
       "version_minor": 0
      },
      "text/plain": [
       "MetricVisualizer(layout=Layout(align_self='stretch', height='500px'))"
      ]
     },
     "metadata": {},
     "output_type": "display_data"
    },
    {
     "data": {
      "text/plain": [
       "<catboost.core.CatBoostClassifier at 0x1db59b8bac0>"
      ]
     },
     "execution_count": 10,
     "metadata": {},
     "output_type": "execute_result"
    }
   ],
   "source": [
    "from catboost import CatBoostClassifier\n",
    "model = CatBoostClassifier(\n",
    "    iterations=100,\n",
    "    random_seed=63,\n",
    "    learning_rate=0.5,\n",
    "#    use_best_model=False     без этого даёт лучшее кол-во деревьев\n",
    ")\n",
    "model.fit(\n",
    "    Xtrain, ytrain,\n",
    "    \n",
    "    eval_set=(Xtest, ytest),\n",
    "    verbose=False,\n",
    "    plot=True\n",
    ")"
   ]
  },
  {
   "cell_type": "code",
   "execution_count": 11,
   "id": "31d1b3fa",
   "metadata": {},
   "outputs": [
    {
     "name": "stdout",
     "output_type": "stream",
     "text": [
      "Tree count: 8\n"
     ]
    }
   ],
   "source": [
    "print('Tree count: ' + str(model.tree_count_))"
   ]
  },
  {
   "cell_type": "code",
   "execution_count": 12,
   "id": "c53b275a",
   "metadata": {},
   "outputs": [
    {
     "data": {
      "application/vnd.jupyter.widget-view+json": {
       "model_id": "c601bb6a315c488cb1d7951e9325ada5",
       "version_major": 2,
       "version_minor": 0
      },
      "text/plain": [
       "MetricVisualizer(layout=Layout(align_self='stretch', height='500px'))"
      ]
     },
     "metadata": {},
     "output_type": "display_data"
    },
    {
     "name": "stdout",
     "output_type": "stream",
     "text": [
      "Training on fold [0/5]\n",
      "\n",
      "bestTest = 0.07037497766\n",
      "bestIteration = 16\n",
      "\n",
      "Training on fold [1/5]\n",
      "\n",
      "bestTest = 0.06109181959\n",
      "bestIteration = 27\n",
      "\n",
      "Training on fold [2/5]\n",
      "\n",
      "bestTest = 0.06970297903\n",
      "bestIteration = 7\n",
      "\n",
      "Training on fold [3/5]\n",
      "\n",
      "bestTest = 0.06278707733\n",
      "bestIteration = 5\n",
      "\n",
      "Training on fold [4/5]\n",
      "\n",
      "bestTest = 0.07776499388\n",
      "bestIteration = 3\n",
      "\n"
     ]
    }
   ],
   "source": [
    "# кроссс-валидация\n",
    "from catboost import cv\n",
    "\n",
    "params = {}\n",
    "params['loss_function'] = 'Logloss'\n",
    "params['iterations'] = 80\n",
    "params['custom_loss'] = 'AUC'\n",
    "params['random_seed'] = 63\n",
    "params['learning_rate'] = 0.5\n",
    "\n",
    "cv_data = cv(\n",
    "    params = params,\n",
    "    pool = Pool(Xtrain, label=ytrain),\n",
    "    fold_count=5,\n",
    "    shuffle=True,\n",
    "    partition_random_seed=0,\n",
    "    stratified=False,\n",
    "    verbose=False,\n",
    "    plot=True\n",
    ")"
   ]
  },
  {
   "cell_type": "markdown",
   "id": "00bda9ca",
   "metadata": {},
   "source": [
    "### LightGBM"
   ]
  },
  {
   "cell_type": "code",
   "execution_count": 102,
   "id": "ef4b5cf4",
   "metadata": {},
   "outputs": [
    {
     "data": {
      "text/plain": [
       "'with warnings.catch_warnings():\\n    warnings.filterwarnings(\"ignore\")\\n    data = pd.read_csv(\\'BostonHousing.csv\\')\\nX_full = data.data\\ny_full = data.target'"
      ]
     },
     "execution_count": 102,
     "metadata": {},
     "output_type": "execute_result"
    }
   ],
   "source": [
    "import numpy as np\n",
    "import pandas as pd\n",
    "import lightgbm as lgb\n",
    "import warnings\n",
    "\n",
    "from sklearn.metrics import mean_squared_error\n",
    "from sklearn.model_selection import GridSearchCV\n",
    "\n",
    "#from sklearn.datasets import load_boston\n",
    "from sklearn.model_selection import train_test_split\n",
    "\n",
    "'''with warnings.catch_warnings():\n",
    "    warnings.filterwarnings(\"ignore\")\n",
    "    data = pd.read_csv('BostonHousing.csv')\n",
    "X_full = data.data\n",
    "y_full = data.target'''\n",
    "\n"
   ]
  },
  {
   "cell_type": "code",
   "execution_count": 103,
   "id": "f62ea70f",
   "metadata": {},
   "outputs": [],
   "source": [
    "test = pd.read_csv('train_small.csv')\n",
    "train = pd.read_csv('test_small.csv')\n",
    "\n",
    "df = pd.concat([test, train])\n",
    "\n",
    "df = df.drop('Unnamed: 0', axis=1)\n",
    "X = df.drop('Disbursed', axis=1) # x.values\n",
    "y = df['Disbursed']"
   ]
  },
  {
   "cell_type": "code",
   "execution_count": 104,
   "id": "f8e9b5b0",
   "metadata": {},
   "outputs": [],
   "source": [
    "X_train, X_test, y_train, y_test = train_test_split(X, y, test_size=100, \n",
    "                                        random_state=241)"
   ]
  },
  {
   "cell_type": "code",
   "execution_count": 105,
   "id": "c13ef2a5",
   "metadata": {},
   "outputs": [
    {
     "name": "stdout",
     "output_type": "stream",
     "text": [
      "Starting training...\n",
      "[LightGBM] [Info] Auto-choosing row-wise multi-threading, the overhead of testing was 0.002605 seconds.\n",
      "You can set `force_row_wise=true` to remove the overhead.\n",
      "And if memory is not enough, you can set `force_col_wise=true`.\n",
      "[LightGBM] [Info] Total Bins 779\n",
      "[LightGBM] [Info] Number of data points in the train set: 34708, number of used features: 47\n",
      "[LightGBM] [Info] Start training from score 0.015126\n"
     ]
    },
    {
     "data": {
      "text/html": [
       "<style>#sk-container-id-1 {color: black;}#sk-container-id-1 pre{padding: 0;}#sk-container-id-1 div.sk-toggleable {background-color: white;}#sk-container-id-1 label.sk-toggleable__label {cursor: pointer;display: block;width: 100%;margin-bottom: 0;padding: 0.3em;box-sizing: border-box;text-align: center;}#sk-container-id-1 label.sk-toggleable__label-arrow:before {content: \"▸\";float: left;margin-right: 0.25em;color: #696969;}#sk-container-id-1 label.sk-toggleable__label-arrow:hover:before {color: black;}#sk-container-id-1 div.sk-estimator:hover label.sk-toggleable__label-arrow:before {color: black;}#sk-container-id-1 div.sk-toggleable__content {max-height: 0;max-width: 0;overflow: hidden;text-align: left;background-color: #f0f8ff;}#sk-container-id-1 div.sk-toggleable__content pre {margin: 0.2em;color: black;border-radius: 0.25em;background-color: #f0f8ff;}#sk-container-id-1 input.sk-toggleable__control:checked~div.sk-toggleable__content {max-height: 200px;max-width: 100%;overflow: auto;}#sk-container-id-1 input.sk-toggleable__control:checked~label.sk-toggleable__label-arrow:before {content: \"▾\";}#sk-container-id-1 div.sk-estimator input.sk-toggleable__control:checked~label.sk-toggleable__label {background-color: #d4ebff;}#sk-container-id-1 div.sk-label input.sk-toggleable__control:checked~label.sk-toggleable__label {background-color: #d4ebff;}#sk-container-id-1 input.sk-hidden--visually {border: 0;clip: rect(1px 1px 1px 1px);clip: rect(1px, 1px, 1px, 1px);height: 1px;margin: -1px;overflow: hidden;padding: 0;position: absolute;width: 1px;}#sk-container-id-1 div.sk-estimator {font-family: monospace;background-color: #f0f8ff;border: 1px dotted black;border-radius: 0.25em;box-sizing: border-box;margin-bottom: 0.5em;}#sk-container-id-1 div.sk-estimator:hover {background-color: #d4ebff;}#sk-container-id-1 div.sk-parallel-item::after {content: \"\";width: 100%;border-bottom: 1px solid gray;flex-grow: 1;}#sk-container-id-1 div.sk-label:hover label.sk-toggleable__label {background-color: #d4ebff;}#sk-container-id-1 div.sk-serial::before {content: \"\";position: absolute;border-left: 1px solid gray;box-sizing: border-box;top: 0;bottom: 0;left: 50%;z-index: 0;}#sk-container-id-1 div.sk-serial {display: flex;flex-direction: column;align-items: center;background-color: white;padding-right: 0.2em;padding-left: 0.2em;position: relative;}#sk-container-id-1 div.sk-item {position: relative;z-index: 1;}#sk-container-id-1 div.sk-parallel {display: flex;align-items: stretch;justify-content: center;background-color: white;position: relative;}#sk-container-id-1 div.sk-item::before, #sk-container-id-1 div.sk-parallel-item::before {content: \"\";position: absolute;border-left: 1px solid gray;box-sizing: border-box;top: 0;bottom: 0;left: 50%;z-index: -1;}#sk-container-id-1 div.sk-parallel-item {display: flex;flex-direction: column;z-index: 1;position: relative;background-color: white;}#sk-container-id-1 div.sk-parallel-item:first-child::after {align-self: flex-end;width: 50%;}#sk-container-id-1 div.sk-parallel-item:last-child::after {align-self: flex-start;width: 50%;}#sk-container-id-1 div.sk-parallel-item:only-child::after {width: 0;}#sk-container-id-1 div.sk-dashed-wrapped {border: 1px dashed gray;margin: 0 0.4em 0.5em 0.4em;box-sizing: border-box;padding-bottom: 0.4em;background-color: white;}#sk-container-id-1 div.sk-label label {font-family: monospace;font-weight: bold;display: inline-block;line-height: 1.2em;}#sk-container-id-1 div.sk-label-container {text-align: center;}#sk-container-id-1 div.sk-container {/* jupyter's `normalize.less` sets `[hidden] { display: none; }` but bootstrap.min.css set `[hidden] { display: none !important; }` so we also need the `!important` here to be able to override the default hidden behavior on the sphinx rendered scikit-learn.org. See: https://github.com/scikit-learn/scikit-learn/issues/21755 */display: inline-block !important;position: relative;}#sk-container-id-1 div.sk-text-repr-fallback {display: none;}</style><div id=\"sk-container-id-1\" class=\"sk-top-container\"><div class=\"sk-text-repr-fallback\"><pre>LGBMRegressor(learning_rate=0.05, n_estimators=20)</pre><b>In a Jupyter environment, please rerun this cell to show the HTML representation or trust the notebook. <br />On GitHub, the HTML representation is unable to render, please try loading this page with nbviewer.org.</b></div><div class=\"sk-container\" hidden><div class=\"sk-item\"><div class=\"sk-estimator sk-toggleable\"><input class=\"sk-toggleable__control sk-hidden--visually\" id=\"sk-estimator-id-1\" type=\"checkbox\" checked><label for=\"sk-estimator-id-1\" class=\"sk-toggleable__label sk-toggleable__label-arrow\">LGBMRegressor</label><div class=\"sk-toggleable__content\"><pre>LGBMRegressor(learning_rate=0.05, n_estimators=20)</pre></div></div></div></div></div>"
      ],
      "text/plain": [
       "LGBMRegressor(learning_rate=0.05, n_estimators=20)"
      ]
     },
     "execution_count": 105,
     "metadata": {},
     "output_type": "execute_result"
    }
   ],
   "source": [
    "print('Starting training...')\n",
    "# train\n",
    "gbm = lgb.LGBMRegressor(num_leaves=31,\n",
    "                        learning_rate=0.05,\n",
    "                        n_estimators=20)\n",
    "gbm.fit(X_train, y_train,\n",
    "        eval_set=[(X_test, y_test)],\n",
    "        eval_metric='l1',)"
   ]
  },
  {
   "cell_type": "code",
   "execution_count": 106,
   "id": "ccfe647e",
   "metadata": {},
   "outputs": [
    {
     "name": "stdout",
     "output_type": "stream",
     "text": [
      "Starting predicting...\n",
      "The rmse of prediction is: 0.14068402875550273\n",
      "Feature importances: [99, 62, 37, 132, 17, 72, 54, 0, 0, 7, 0, 1, 12, 0, 19, 0, 0, 0, 0, 9, 6, 12, 0, 7, 0, 0, 3, 0, 2, 5, 0, 0, 0, 2, 0, 0, 0, 0, 7, 2, 0, 0, 0, 6, 0, 0, 15, 8, 4]\n"
     ]
    }
   ],
   "source": [
    "print('Starting predicting...')\n",
    "\n",
    "y_pred = gbm.predict(X_test, num_iteration=gbm.best_iteration_)\n",
    "\n",
    "print('The rmse of prediction is:', mean_squared_error(y_test, y_pred) ** 0.5)\n",
    "\n",
    "# feature importances\n",
    "print('Feature importances:', list(gbm.feature_importances_))"
   ]
  },
  {
   "cell_type": "code",
   "execution_count": 107,
   "id": "b9f492b1",
   "metadata": {},
   "outputs": [
    {
     "name": "stdout",
     "output_type": "stream",
     "text": [
      "Starting training with custom eval function...\n",
      "[LightGBM] [Info] Auto-choosing row-wise multi-threading, the overhead of testing was 0.002069 seconds.\n",
      "You can set `force_row_wise=true` to remove the overhead.\n",
      "And if memory is not enough, you can set `force_col_wise=true`.\n",
      "[LightGBM] [Info] Total Bins 779\n",
      "[LightGBM] [Info] Number of data points in the train set: 34708, number of used features: 47\n",
      "[LightGBM] [Info] Start training from score 0.015126\n",
      "Starting predicting...\n",
      "The rmsle of prediction is: 0.09775571528144801\n"
     ]
    }
   ],
   "source": [
    "def rmsle(y_true, y_pred):\n",
    "    return 'RMSLE', np.sqrt(np.mean(np.power(np.log1p(y_pred) - np.log1p(y_true), 2))), False\n",
    "\n",
    "\n",
    "print('Starting training with custom eval function...')\n",
    "# train\n",
    "gbm.fit(X_train, y_train,\n",
    "        eval_set=[(X_test, y_test)],\n",
    "        eval_metric=rmsle,)\n",
    "\n",
    "print('Starting predicting...')\n",
    "# predict\n",
    "y_pred = gbm.predict(X_test, num_iteration=gbm.best_iteration_)\n",
    "# eval\n",
    "print('The rmsle of prediction is:', rmsle(y_test, y_pred)[1])"
   ]
  },
  {
   "cell_type": "code",
   "execution_count": 108,
   "id": "4cf723de",
   "metadata": {},
   "outputs": [
    {
     "name": "stdout",
     "output_type": "stream",
     "text": [
      "[LightGBM] [Info] Auto-choosing row-wise multi-threading, the overhead of testing was 0.025286 seconds.\n",
      "You can set `force_row_wise=true` to remove the overhead.\n",
      "And if memory is not enough, you can set `force_col_wise=true`.\n",
      "[LightGBM] [Info] Total Bins 756\n",
      "[LightGBM] [Info] Number of data points in the train set: 23138, number of used features: 46\n",
      "[LightGBM] [Info] Start training from score 0.015818\n",
      "[LightGBM] [Info] Auto-choosing row-wise multi-threading, the overhead of testing was 0.001225 seconds.\n",
      "You can set `force_row_wise=true` to remove the overhead.\n",
      "And if memory is not enough, you can set `force_col_wise=true`.\n",
      "[LightGBM] [Info] Total Bins 757\n",
      "[LightGBM] [Info] Number of data points in the train set: 23139, number of used features: 47\n",
      "[LightGBM] [Info] Start training from score 0.015256\n",
      "[LightGBM] [Info] Auto-choosing row-wise multi-threading, the overhead of testing was 0.001153 seconds.\n",
      "You can set `force_row_wise=true` to remove the overhead.\n",
      "And if memory is not enough, you can set `force_col_wise=true`.\n",
      "[LightGBM] [Info] Total Bins 756\n",
      "[LightGBM] [Info] Number of data points in the train set: 23139, number of used features: 47\n",
      "[LightGBM] [Info] Start training from score 0.014305\n",
      "[LightGBM] [Info] Auto-choosing row-wise multi-threading, the overhead of testing was 0.000932 seconds.\n",
      "You can set `force_row_wise=true` to remove the overhead.\n",
      "And if memory is not enough, you can set `force_col_wise=true`.\n",
      "[LightGBM] [Info] Total Bins 756\n",
      "[LightGBM] [Info] Number of data points in the train set: 23138, number of used features: 46\n",
      "[LightGBM] [Info] Start training from score 0.015818\n",
      "[LightGBM] [Info] Auto-choosing row-wise multi-threading, the overhead of testing was 0.001151 seconds.\n",
      "You can set `force_row_wise=true` to remove the overhead.\n",
      "And if memory is not enough, you can set `force_col_wise=true`.\n",
      "[LightGBM] [Info] Total Bins 757\n",
      "[LightGBM] [Info] Number of data points in the train set: 23139, number of used features: 47\n",
      "[LightGBM] [Info] Start training from score 0.015256\n",
      "[LightGBM] [Info] Auto-choosing row-wise multi-threading, the overhead of testing was 0.001185 seconds.\n",
      "You can set `force_row_wise=true` to remove the overhead.\n",
      "And if memory is not enough, you can set `force_col_wise=true`.\n",
      "[LightGBM] [Info] Total Bins 756\n",
      "[LightGBM] [Info] Number of data points in the train set: 23139, number of used features: 47\n",
      "[LightGBM] [Info] Start training from score 0.014305\n",
      "[LightGBM] [Info] Auto-choosing row-wise multi-threading, the overhead of testing was 0.000981 seconds.\n",
      "You can set `force_row_wise=true` to remove the overhead.\n",
      "And if memory is not enough, you can set `force_col_wise=true`.\n",
      "[LightGBM] [Info] Total Bins 756\n",
      "[LightGBM] [Info] Number of data points in the train set: 23138, number of used features: 46\n",
      "[LightGBM] [Info] Start training from score 0.015818\n",
      "[LightGBM] [Info] Auto-choosing row-wise multi-threading, the overhead of testing was 0.001127 seconds.\n",
      "You can set `force_row_wise=true` to remove the overhead.\n",
      "And if memory is not enough, you can set `force_col_wise=true`.\n",
      "[LightGBM] [Info] Total Bins 757\n",
      "[LightGBM] [Info] Number of data points in the train set: 23139, number of used features: 47\n",
      "[LightGBM] [Info] Start training from score 0.015256\n",
      "[LightGBM] [Info] Auto-choosing row-wise multi-threading, the overhead of testing was 0.000934 seconds.\n",
      "You can set `force_row_wise=true` to remove the overhead.\n",
      "And if memory is not enough, you can set `force_col_wise=true`.\n",
      "[LightGBM] [Info] Total Bins 756\n",
      "[LightGBM] [Info] Number of data points in the train set: 23139, number of used features: 47\n",
      "[LightGBM] [Info] Start training from score 0.014305\n",
      "[LightGBM] [Info] Auto-choosing row-wise multi-threading, the overhead of testing was 0.000966 seconds.\n",
      "You can set `force_row_wise=true` to remove the overhead.\n",
      "And if memory is not enough, you can set `force_col_wise=true`.\n",
      "[LightGBM] [Info] Total Bins 756\n",
      "[LightGBM] [Info] Number of data points in the train set: 23138, number of used features: 46\n",
      "[LightGBM] [Info] Start training from score 0.015818\n",
      "[LightGBM] [Info] Auto-choosing row-wise multi-threading, the overhead of testing was 0.001138 seconds.\n",
      "You can set `force_row_wise=true` to remove the overhead.\n",
      "And if memory is not enough, you can set `force_col_wise=true`.\n",
      "[LightGBM] [Info] Total Bins 757\n",
      "[LightGBM] [Info] Number of data points in the train set: 23139, number of used features: 47\n",
      "[LightGBM] [Info] Start training from score 0.015256\n",
      "[LightGBM] [Info] Auto-choosing row-wise multi-threading, the overhead of testing was 0.001238 seconds.\n",
      "You can set `force_row_wise=true` to remove the overhead.\n",
      "And if memory is not enough, you can set `force_col_wise=true`.\n",
      "[LightGBM] [Info] Total Bins 756\n",
      "[LightGBM] [Info] Number of data points in the train set: 23139, number of used features: 47\n",
      "[LightGBM] [Info] Start training from score 0.014305\n",
      "[LightGBM] [Info] Auto-choosing row-wise multi-threading, the overhead of testing was 0.000740 seconds.\n",
      "You can set `force_row_wise=true` to remove the overhead.\n",
      "And if memory is not enough, you can set `force_col_wise=true`.\n",
      "[LightGBM] [Info] Total Bins 756\n",
      "[LightGBM] [Info] Number of data points in the train set: 23138, number of used features: 46\n",
      "[LightGBM] [Info] Start training from score 0.015818\n",
      "[LightGBM] [Info] Auto-choosing row-wise multi-threading, the overhead of testing was 0.001155 seconds.\n",
      "You can set `force_row_wise=true` to remove the overhead.\n",
      "And if memory is not enough, you can set `force_col_wise=true`.\n",
      "[LightGBM] [Info] Total Bins 757\n",
      "[LightGBM] [Info] Number of data points in the train set: 23139, number of used features: 47\n",
      "[LightGBM] [Info] Start training from score 0.015256\n",
      "[LightGBM] [Info] Auto-choosing row-wise multi-threading, the overhead of testing was 0.001164 seconds.\n",
      "You can set `force_row_wise=true` to remove the overhead.\n",
      "And if memory is not enough, you can set `force_col_wise=true`.\n",
      "[LightGBM] [Info] Total Bins 756\n",
      "[LightGBM] [Info] Number of data points in the train set: 23139, number of used features: 47\n",
      "[LightGBM] [Info] Start training from score 0.014305\n",
      "[LightGBM] [Info] Auto-choosing row-wise multi-threading, the overhead of testing was 0.000889 seconds.\n",
      "You can set `force_row_wise=true` to remove the overhead.\n",
      "And if memory is not enough, you can set `force_col_wise=true`.\n",
      "[LightGBM] [Info] Total Bins 756\n",
      "[LightGBM] [Info] Number of data points in the train set: 23138, number of used features: 46\n",
      "[LightGBM] [Info] Start training from score 0.015818\n",
      "[LightGBM] [Info] Auto-choosing row-wise multi-threading, the overhead of testing was 0.000957 seconds.\n",
      "You can set `force_row_wise=true` to remove the overhead.\n",
      "And if memory is not enough, you can set `force_col_wise=true`.\n",
      "[LightGBM] [Info] Total Bins 757\n",
      "[LightGBM] [Info] Number of data points in the train set: 23139, number of used features: 47\n",
      "[LightGBM] [Info] Start training from score 0.015256\n",
      "[LightGBM] [Info] Auto-choosing row-wise multi-threading, the overhead of testing was 0.001126 seconds.\n",
      "You can set `force_row_wise=true` to remove the overhead.\n",
      "And if memory is not enough, you can set `force_col_wise=true`.\n",
      "[LightGBM] [Info] Total Bins 756\n",
      "[LightGBM] [Info] Number of data points in the train set: 23139, number of used features: 47\n",
      "[LightGBM] [Info] Start training from score 0.014305\n",
      "[LightGBM] [Info] Auto-choosing row-wise multi-threading, the overhead of testing was 0.001824 seconds.\n",
      "You can set `force_row_wise=true` to remove the overhead.\n",
      "And if memory is not enough, you can set `force_col_wise=true`.\n",
      "[LightGBM] [Info] Total Bins 779\n",
      "[LightGBM] [Info] Number of data points in the train set: 34708, number of used features: 47\n",
      "[LightGBM] [Info] Start training from score 0.015126\n",
      "Best parameters found by grid search are: {'learning_rate': 0.1, 'n_estimators': 20}\n"
     ]
    }
   ],
   "source": [
    "# other scikit-learn modules\n",
    "estimator = lgb.LGBMRegressor(num_leaves=31)\n",
    "\n",
    "param_grid = {\n",
    "    'learning_rate': [0.01, 0.1, 1],\n",
    "    'n_estimators': [20, 40]\n",
    "}\n",
    "\n",
    "gbm = GridSearchCV(estimator, param_grid, cv=3)\n",
    "gbm.fit(X_train, y_train)\n",
    "\n",
    "print('Best parameters found by grid search are:', gbm.best_params_)"
   ]
  },
  {
   "cell_type": "code",
   "execution_count": 109,
   "id": "70738cda",
   "metadata": {},
   "outputs": [],
   "source": [
    "pred = gbm.predict(X_test)"
   ]
  },
  {
   "cell_type": "code",
   "execution_count": 110,
   "id": "072d0844",
   "metadata": {},
   "outputs": [
    {
     "data": {
      "text/plain": [
       "0.01987039245327898"
      ]
     },
     "execution_count": 110,
     "metadata": {},
     "output_type": "execute_result"
    }
   ],
   "source": [
    "from sklearn.metrics import mean_squared_error\n",
    "mean_squared_error(y_test, pred)"
   ]
  },
  {
   "cell_type": "markdown",
   "id": "b6b18361",
   "metadata": {},
   "source": [
    "Как мне показалось, и скорость и точность примерно похожи."
   ]
  },
  {
   "cell_type": "markdown",
   "id": "0556cba4-e58d-4676-bbfa-affea5a9f2f5",
   "metadata": {},
   "source": [
    "# Задание\n",
    "\n",
    "Решите задачу классификации пассажиров Титаника с помощью любого из ансамблей (или нескольких из них). Если у вас есть наработки по Титанику, используйте их. \n",
    "\n",
    "Удалось ли улучшить качество с помощью какого-либо из этих алгоритмов?"
   ]
  },
  {
   "cell_type": "code",
   "execution_count": 132,
   "id": "d62744e3-c1a4-4f4c-a284-5cce96cd55c5",
   "metadata": {},
   "outputs": [],
   "source": [
    "import pandas as pd\n",
    "\n",
    "data = pd.read_csv(\"titanic.csv\")\n"
   ]
  },
  {
   "cell_type": "code",
   "execution_count": 133,
   "id": "f2c88d12",
   "metadata": {},
   "outputs": [
    {
     "data": {
      "text/html": [
       "<div>\n",
       "<style scoped>\n",
       "    .dataframe tbody tr th:only-of-type {\n",
       "        vertical-align: middle;\n",
       "    }\n",
       "\n",
       "    .dataframe tbody tr th {\n",
       "        vertical-align: top;\n",
       "    }\n",
       "\n",
       "    .dataframe thead th {\n",
       "        text-align: right;\n",
       "    }\n",
       "</style>\n",
       "<table border=\"1\" class=\"dataframe\">\n",
       "  <thead>\n",
       "    <tr style=\"text-align: right;\">\n",
       "      <th></th>\n",
       "      <th>PassengerId</th>\n",
       "      <th>Survived</th>\n",
       "      <th>Pclass</th>\n",
       "      <th>Name</th>\n",
       "      <th>Sex</th>\n",
       "      <th>Age</th>\n",
       "      <th>SibSp</th>\n",
       "      <th>Parch</th>\n",
       "      <th>Ticket</th>\n",
       "      <th>Fare</th>\n",
       "      <th>Cabin</th>\n",
       "      <th>Embarked</th>\n",
       "    </tr>\n",
       "  </thead>\n",
       "  <tbody>\n",
       "    <tr>\n",
       "      <th>0</th>\n",
       "      <td>1</td>\n",
       "      <td>0</td>\n",
       "      <td>3</td>\n",
       "      <td>Braund, Mr. Owen Harris</td>\n",
       "      <td>male</td>\n",
       "      <td>22.0</td>\n",
       "      <td>1</td>\n",
       "      <td>0</td>\n",
       "      <td>A/5 21171</td>\n",
       "      <td>7.2500</td>\n",
       "      <td>NaN</td>\n",
       "      <td>S</td>\n",
       "    </tr>\n",
       "    <tr>\n",
       "      <th>1</th>\n",
       "      <td>2</td>\n",
       "      <td>1</td>\n",
       "      <td>1</td>\n",
       "      <td>Cumings, Mrs. John Bradley (Florence Briggs Th...</td>\n",
       "      <td>female</td>\n",
       "      <td>38.0</td>\n",
       "      <td>1</td>\n",
       "      <td>0</td>\n",
       "      <td>PC 17599</td>\n",
       "      <td>71.2833</td>\n",
       "      <td>C85</td>\n",
       "      <td>C</td>\n",
       "    </tr>\n",
       "    <tr>\n",
       "      <th>2</th>\n",
       "      <td>3</td>\n",
       "      <td>1</td>\n",
       "      <td>3</td>\n",
       "      <td>Heikkinen, Miss. Laina</td>\n",
       "      <td>female</td>\n",
       "      <td>26.0</td>\n",
       "      <td>0</td>\n",
       "      <td>0</td>\n",
       "      <td>STON/O2. 3101282</td>\n",
       "      <td>7.9250</td>\n",
       "      <td>NaN</td>\n",
       "      <td>S</td>\n",
       "    </tr>\n",
       "    <tr>\n",
       "      <th>3</th>\n",
       "      <td>4</td>\n",
       "      <td>1</td>\n",
       "      <td>1</td>\n",
       "      <td>Futrelle, Mrs. Jacques Heath (Lily May Peel)</td>\n",
       "      <td>female</td>\n",
       "      <td>35.0</td>\n",
       "      <td>1</td>\n",
       "      <td>0</td>\n",
       "      <td>113803</td>\n",
       "      <td>53.1000</td>\n",
       "      <td>C123</td>\n",
       "      <td>S</td>\n",
       "    </tr>\n",
       "    <tr>\n",
       "      <th>4</th>\n",
       "      <td>5</td>\n",
       "      <td>0</td>\n",
       "      <td>3</td>\n",
       "      <td>Allen, Mr. William Henry</td>\n",
       "      <td>male</td>\n",
       "      <td>35.0</td>\n",
       "      <td>0</td>\n",
       "      <td>0</td>\n",
       "      <td>373450</td>\n",
       "      <td>8.0500</td>\n",
       "      <td>NaN</td>\n",
       "      <td>S</td>\n",
       "    </tr>\n",
       "  </tbody>\n",
       "</table>\n",
       "</div>"
      ],
      "text/plain": [
       "   PassengerId  Survived  Pclass  \\\n",
       "0            1         0       3   \n",
       "1            2         1       1   \n",
       "2            3         1       3   \n",
       "3            4         1       1   \n",
       "4            5         0       3   \n",
       "\n",
       "                                                Name     Sex   Age  SibSp  \\\n",
       "0                            Braund, Mr. Owen Harris    male  22.0      1   \n",
       "1  Cumings, Mrs. John Bradley (Florence Briggs Th...  female  38.0      1   \n",
       "2                             Heikkinen, Miss. Laina  female  26.0      0   \n",
       "3       Futrelle, Mrs. Jacques Heath (Lily May Peel)  female  35.0      1   \n",
       "4                           Allen, Mr. William Henry    male  35.0      0   \n",
       "\n",
       "   Parch            Ticket     Fare Cabin Embarked  \n",
       "0      0         A/5 21171   7.2500   NaN        S  \n",
       "1      0          PC 17599  71.2833   C85        C  \n",
       "2      0  STON/O2. 3101282   7.9250   NaN        S  \n",
       "3      0            113803  53.1000  C123        S  \n",
       "4      0            373450   8.0500   NaN        S  "
      ]
     },
     "execution_count": 133,
     "metadata": {},
     "output_type": "execute_result"
    }
   ],
   "source": [
    "data.head()"
   ]
  },
  {
   "cell_type": "code",
   "execution_count": 134,
   "id": "d2857ee8",
   "metadata": {},
   "outputs": [],
   "source": [
    "data = data.drop(['PassengerId', 'Name', 'Parch', 'Ticket', 'Cabin', 'Embarked'], axis=1)"
   ]
  },
  {
   "cell_type": "code",
   "execution_count": 135,
   "id": "e88f33c7",
   "metadata": {},
   "outputs": [
    {
     "data": {
      "text/html": [
       "<div>\n",
       "<style scoped>\n",
       "    .dataframe tbody tr th:only-of-type {\n",
       "        vertical-align: middle;\n",
       "    }\n",
       "\n",
       "    .dataframe tbody tr th {\n",
       "        vertical-align: top;\n",
       "    }\n",
       "\n",
       "    .dataframe thead th {\n",
       "        text-align: right;\n",
       "    }\n",
       "</style>\n",
       "<table border=\"1\" class=\"dataframe\">\n",
       "  <thead>\n",
       "    <tr style=\"text-align: right;\">\n",
       "      <th></th>\n",
       "      <th>Survived</th>\n",
       "      <th>Pclass</th>\n",
       "      <th>Sex</th>\n",
       "      <th>Age</th>\n",
       "      <th>SibSp</th>\n",
       "      <th>Fare</th>\n",
       "    </tr>\n",
       "  </thead>\n",
       "  <tbody>\n",
       "    <tr>\n",
       "      <th>0</th>\n",
       "      <td>0</td>\n",
       "      <td>3</td>\n",
       "      <td>male</td>\n",
       "      <td>22.0</td>\n",
       "      <td>1</td>\n",
       "      <td>7.2500</td>\n",
       "    </tr>\n",
       "    <tr>\n",
       "      <th>1</th>\n",
       "      <td>1</td>\n",
       "      <td>1</td>\n",
       "      <td>female</td>\n",
       "      <td>38.0</td>\n",
       "      <td>1</td>\n",
       "      <td>71.2833</td>\n",
       "    </tr>\n",
       "    <tr>\n",
       "      <th>2</th>\n",
       "      <td>1</td>\n",
       "      <td>3</td>\n",
       "      <td>female</td>\n",
       "      <td>26.0</td>\n",
       "      <td>0</td>\n",
       "      <td>7.9250</td>\n",
       "    </tr>\n",
       "    <tr>\n",
       "      <th>3</th>\n",
       "      <td>1</td>\n",
       "      <td>1</td>\n",
       "      <td>female</td>\n",
       "      <td>35.0</td>\n",
       "      <td>1</td>\n",
       "      <td>53.1000</td>\n",
       "    </tr>\n",
       "    <tr>\n",
       "      <th>4</th>\n",
       "      <td>0</td>\n",
       "      <td>3</td>\n",
       "      <td>male</td>\n",
       "      <td>35.0</td>\n",
       "      <td>0</td>\n",
       "      <td>8.0500</td>\n",
       "    </tr>\n",
       "  </tbody>\n",
       "</table>\n",
       "</div>"
      ],
      "text/plain": [
       "   Survived  Pclass     Sex   Age  SibSp     Fare\n",
       "0         0       3    male  22.0      1   7.2500\n",
       "1         1       1  female  38.0      1  71.2833\n",
       "2         1       3  female  26.0      0   7.9250\n",
       "3         1       1  female  35.0      1  53.1000\n",
       "4         0       3    male  35.0      0   8.0500"
      ]
     },
     "execution_count": 135,
     "metadata": {},
     "output_type": "execute_result"
    }
   ],
   "source": [
    "data.head()"
   ]
  },
  {
   "cell_type": "code",
   "execution_count": 136,
   "id": "ec7d471d",
   "metadata": {},
   "outputs": [],
   "source": [
    "data['Age'] = data['Age'].fillna(data['Age'].mean())\n",
    "data['Sex'] = data.apply(lambda x : 0 if x['Sex'] == 'female' else 1, axis = 1) "
   ]
  },
  {
   "cell_type": "code",
   "execution_count": 137,
   "id": "5aff5ada",
   "metadata": {},
   "outputs": [
    {
     "name": "stdout",
     "output_type": "stream",
     "text": [
      "<class 'pandas.core.frame.DataFrame'>\n",
      "RangeIndex: 891 entries, 0 to 890\n",
      "Data columns (total 6 columns):\n",
      " #   Column    Non-Null Count  Dtype  \n",
      "---  ------    --------------  -----  \n",
      " 0   Survived  891 non-null    int64  \n",
      " 1   Pclass    891 non-null    int64  \n",
      " 2   Sex       891 non-null    int64  \n",
      " 3   Age       891 non-null    float64\n",
      " 4   SibSp     891 non-null    int64  \n",
      " 5   Fare      891 non-null    float64\n",
      "dtypes: float64(2), int64(4)\n",
      "memory usage: 41.9 KB\n"
     ]
    }
   ],
   "source": [
    "data.info()"
   ]
  },
  {
   "cell_type": "code",
   "execution_count": 138,
   "id": "57b78aba",
   "metadata": {},
   "outputs": [
    {
     "name": "stdout",
     "output_type": "stream",
     "text": [
      "{0, 1}\n"
     ]
    }
   ],
   "source": [
    "print(set(data.Sex))"
   ]
  },
  {
   "cell_type": "code",
   "execution_count": 143,
   "id": "14eaa8b5",
   "metadata": {},
   "outputs": [
    {
     "data": {
      "text/plain": [
       "<Axes: >"
      ]
     },
     "execution_count": 143,
     "metadata": {},
     "output_type": "execute_result"
    },
    {
     "data": {
      "image/png": "[encoded data removed]",
      "text/plain": [
       "<Figure size 1200x900 with 2 Axes>"
      ]
     },
     "metadata": {},
     "output_type": "display_data"
    }
   ],
   "source": [
    "import seaborn as sns\n",
    "import numpy as np\n",
    "\n",
    "plt.figure(figsize=(12, 9))\n",
    "\n",
    "corr = data.corr()\n",
    "\n",
    "sns.heatmap(corr,annot=True,linewidths=.5,fmt= '.2f',\\\n",
    "            mask = np.zeros_like(corr, dtype=bool), \\\n",
    "            cmap = sns.color_palette('flare', as_cmap=True), square=True)"
   ]
  },
  {
   "cell_type": "code",
   "execution_count": 144,
   "id": "92cdb417",
   "metadata": {},
   "outputs": [],
   "source": [
    "y = data.Survived\n",
    "X = data.drop('Survived', axis=1)"
   ]
  },
  {
   "cell_type": "code",
   "execution_count": 145,
   "id": "b0751e36",
   "metadata": {},
   "outputs": [
    {
     "name": "stdout",
     "output_type": "stream",
     "text": [
      "[0, 1, 2, 3, 4]\n"
     ]
    }
   ],
   "source": [
    "cat_features = list(range(0, X.shape[1]))\n",
    "print(cat_features)"
   ]
  },
  {
   "cell_type": "code",
   "execution_count": 146,
   "id": "571f3f27",
   "metadata": {},
   "outputs": [
    {
     "name": "stdout",
     "output_type": "stream",
     "text": [
      "Labels: {0, 1}\n",
      "Zero count = 549, One count = 342\n"
     ]
    }
   ],
   "source": [
    "print('Labels: {}'.format(set(y)))\n",
    "print('Zero count = {}, One count = {}'.format(len(y) - sum(y), sum(y)))"
   ]
  },
  {
   "cell_type": "code",
   "execution_count": 147,
   "id": "ce65ae5f",
   "metadata": {},
   "outputs": [],
   "source": [
    "from sklearn.model_selection import train_test_split\n",
    "X_train, X_validation, y_train, y_validation = train_test_split(X, y, train_size=0.8, random_state=1234)"
   ]
  },
  {
   "cell_type": "code",
   "execution_count": 149,
   "id": "245aebca",
   "metadata": {},
   "outputs": [
    {
     "name": "stdout",
     "output_type": "stream",
     "text": [
      "Model is fitted: True\n",
      "Model params:\n",
      "{'iterations': 5, 'learning_rate': 0.1}\n"
     ]
    }
   ],
   "source": [
    "# решила использовать CatBoost\n",
    "from catboost import CatBoostClassifier\n",
    "model = CatBoostClassifier(\n",
    "    iterations=5,\n",
    "    learning_rate=0.1,\n",
    ")\n",
    "model.fit(\n",
    "    X_train, y_train,\n",
    "    #cat_features=cat_features,\n",
    "    eval_set=(X_validation, y_validation),  \n",
    "    verbose=False # T many comments F no comments\n",
    ")\n",
    "print('Model is fitted: ' + str(model.is_fitted()))\n",
    "print('Model params:')\n",
    "print(model.get_params())"
   ]
  },
  {
   "cell_type": "code",
   "execution_count": 151,
   "id": "bb341ca8",
   "metadata": {},
   "outputs": [
    {
     "data": {
      "application/vnd.jupyter.widget-view+json": {
       "model_id": "b4726d50371a4f03b3bc4bd764dd422f",
       "version_major": 2,
       "version_minor": 0
      },
      "text/plain": [
       "MetricVisualizer(layout=Layout(align_self='stretch', height='500px'))"
      ]
     },
     "metadata": {},
     "output_type": "display_data"
    },
    {
     "name": "stdout",
     "output_type": "stream",
     "text": [
      "Learning rate set to 0.066508\n",
      "0:\tlearn: 0.6733727\ttest: 0.6705745\tbest: 0.6705745 (0)\ttotal: 911us\tremaining: 136ms\n",
      "3:\tlearn: 0.6123027\ttest: 0.6062358\tbest: 0.6062358 (3)\ttotal: 3.89ms\tremaining: 142ms\n",
      "6:\tlearn: 0.5675759\ttest: 0.5603013\tbest: 0.5603013 (6)\ttotal: 6.1ms\tremaining: 125ms\n",
      "9:\tlearn: 0.5338560\ttest: 0.5266767\tbest: 0.5266767 (9)\ttotal: 9.05ms\tremaining: 127ms\n",
      "12:\tlearn: 0.5059162\ttest: 0.5010461\tbest: 0.5010461 (12)\ttotal: 12.6ms\tremaining: 133ms\n",
      "15:\tlearn: 0.4845316\ttest: 0.4820618\tbest: 0.4820618 (15)\ttotal: 15.8ms\tremaining: 133ms\n",
      "18:\tlearn: 0.4678917\ttest: 0.4660655\tbest: 0.4660655 (18)\ttotal: 18.9ms\tremaining: 130ms\n",
      "21:\tlearn: 0.4548963\ttest: 0.4531888\tbest: 0.4531888 (21)\ttotal: 24.4ms\tremaining: 142ms\n",
      "24:\tlearn: 0.4428451\ttest: 0.4429453\tbest: 0.4429453 (24)\ttotal: 28.2ms\tremaining: 141ms\n",
      "27:\tlearn: 0.4340820\ttest: 0.4353780\tbest: 0.4353780 (27)\ttotal: 31.9ms\tremaining: 139ms\n",
      "30:\tlearn: 0.4273304\ttest: 0.4292584\tbest: 0.4292584 (30)\ttotal: 35.2ms\tremaining: 135ms\n",
      "33:\tlearn: 0.4212013\ttest: 0.4254677\tbest: 0.4254677 (33)\ttotal: 38ms\tremaining: 130ms\n",
      "36:\tlearn: 0.4159029\ttest: 0.4222203\tbest: 0.4222203 (36)\ttotal: 41.7ms\tremaining: 127ms\n",
      "39:\tlearn: 0.4110665\ttest: 0.4195356\tbest: 0.4195356 (39)\ttotal: 45.9ms\tremaining: 126ms\n",
      "42:\tlearn: 0.4069009\ttest: 0.4171390\tbest: 0.4171390 (42)\ttotal: 49.3ms\tremaining: 123ms\n",
      "45:\tlearn: 0.4030986\ttest: 0.4150993\tbest: 0.4150993 (45)\ttotal: 52.9ms\tremaining: 119ms\n",
      "48:\tlearn: 0.4010723\ttest: 0.4136770\tbest: 0.4136770 (48)\ttotal: 56.2ms\tremaining: 116ms\n",
      "51:\tlearn: 0.3979485\ttest: 0.4127917\tbest: 0.4127917 (51)\ttotal: 60.6ms\tremaining: 114ms\n",
      "54:\tlearn: 0.3950148\ttest: 0.4119451\tbest: 0.4118810 (53)\ttotal: 64.2ms\tremaining: 111ms\n",
      "57:\tlearn: 0.3928345\ttest: 0.4100370\tbest: 0.4100370 (57)\ttotal: 68.1ms\tremaining: 108ms\n",
      "60:\tlearn: 0.3909610\ttest: 0.4086413\tbest: 0.4086413 (60)\ttotal: 71.4ms\tremaining: 104ms\n",
      "63:\tlearn: 0.3898123\ttest: 0.4073162\tbest: 0.4073162 (63)\ttotal: 74.7ms\tremaining: 100ms\n",
      "66:\tlearn: 0.3881931\ttest: 0.4069475\tbest: 0.4069038 (65)\ttotal: 77.7ms\tremaining: 96.3ms\n",
      "69:\tlearn: 0.3866146\ttest: 0.4066275\tbest: 0.4065876 (67)\ttotal: 80.9ms\tremaining: 92.5ms\n",
      "72:\tlearn: 0.3844651\ttest: 0.4055542\tbest: 0.4055542 (72)\ttotal: 84.4ms\tremaining: 89ms\n",
      "75:\tlearn: 0.3830016\ttest: 0.4046615\tbest: 0.4046615 (75)\ttotal: 88.3ms\tremaining: 85.9ms\n",
      "78:\tlearn: 0.3802924\ttest: 0.4041189\tbest: 0.4041189 (78)\ttotal: 92.1ms\tremaining: 82.7ms\n",
      "81:\tlearn: 0.3793605\ttest: 0.4036122\tbest: 0.4036122 (81)\ttotal: 95ms\tremaining: 78.8ms\n",
      "84:\tlearn: 0.3776071\ttest: 0.4025862\tbest: 0.4025862 (84)\ttotal: 98.9ms\tremaining: 75.6ms\n",
      "87:\tlearn: 0.3758421\ttest: 0.4030233\tbest: 0.4025862 (84)\ttotal: 103ms\tremaining: 72.3ms\n",
      "90:\tlearn: 0.3746860\ttest: 0.4035457\tbest: 0.4025862 (84)\ttotal: 106ms\tremaining: 68.5ms\n",
      "93:\tlearn: 0.3736589\ttest: 0.4036835\tbest: 0.4025862 (84)\ttotal: 109ms\tremaining: 65ms\n",
      "96:\tlearn: 0.3712630\ttest: 0.4038220\tbest: 0.4025862 (84)\ttotal: 113ms\tremaining: 61.5ms\n",
      "99:\tlearn: 0.3693677\ttest: 0.4039841\tbest: 0.4025862 (84)\ttotal: 116ms\tremaining: 58.1ms\n",
      "102:\tlearn: 0.3684530\ttest: 0.4041744\tbest: 0.4025862 (84)\ttotal: 120ms\tremaining: 54.6ms\n",
      "105:\tlearn: 0.3668396\ttest: 0.4047512\tbest: 0.4025862 (84)\ttotal: 123ms\tremaining: 51.1ms\n",
      "108:\tlearn: 0.3659307\ttest: 0.4047423\tbest: 0.4025862 (84)\ttotal: 127ms\tremaining: 47.7ms\n",
      "111:\tlearn: 0.3649055\ttest: 0.4048653\tbest: 0.4025862 (84)\ttotal: 130ms\tremaining: 44.3ms\n",
      "114:\tlearn: 0.3643519\ttest: 0.4048794\tbest: 0.4025862 (84)\ttotal: 134ms\tremaining: 40.8ms\n",
      "117:\tlearn: 0.3635048\ttest: 0.4058800\tbest: 0.4025862 (84)\ttotal: 138ms\tremaining: 37.4ms\n",
      "120:\tlearn: 0.3625261\ttest: 0.4056874\tbest: 0.4025862 (84)\ttotal: 142ms\tremaining: 34ms\n",
      "123:\tlearn: 0.3616694\ttest: 0.4052912\tbest: 0.4025862 (84)\ttotal: 146ms\tremaining: 30.7ms\n",
      "126:\tlearn: 0.3609645\ttest: 0.4050291\tbest: 0.4025862 (84)\ttotal: 150ms\tremaining: 27.2ms\n",
      "129:\tlearn: 0.3603584\ttest: 0.4050508\tbest: 0.4025862 (84)\ttotal: 155ms\tremaining: 23.8ms\n",
      "132:\tlearn: 0.3600328\ttest: 0.4050299\tbest: 0.4025862 (84)\ttotal: 158ms\tremaining: 20.2ms\n",
      "135:\tlearn: 0.3589054\ttest: 0.4050066\tbest: 0.4025862 (84)\ttotal: 162ms\tremaining: 16.7ms\n",
      "138:\tlearn: 0.3585998\ttest: 0.4048697\tbest: 0.4025862 (84)\ttotal: 166ms\tremaining: 13.1ms\n",
      "141:\tlearn: 0.3581348\ttest: 0.4047150\tbest: 0.4025862 (84)\ttotal: 169ms\tremaining: 9.53ms\n",
      "144:\tlearn: 0.3572471\ttest: 0.4046304\tbest: 0.4025862 (84)\ttotal: 173ms\tremaining: 5.97ms\n",
      "147:\tlearn: 0.3566547\ttest: 0.4045644\tbest: 0.4025862 (84)\ttotal: 177ms\tremaining: 2.4ms\n",
      "149:\tlearn: 0.3562833\ttest: 0.4041626\tbest: 0.4025862 (84)\ttotal: 180ms\tremaining: 0us\n",
      "\n",
      "bestTest = 0.4025862407\n",
      "bestIteration = 84\n",
      "\n",
      "Shrink model to first 85 iterations.\n"
     ]
    },
    {
     "data": {
      "text/plain": [
       "<catboost.core.CatBoostClassifier at 0x1db594871f0>"
      ]
     },
     "execution_count": 151,
     "metadata": {},
     "output_type": "execute_result"
    }
   ],
   "source": [
    "from catboost import CatBoostClassifier\n",
    "model = CatBoostClassifier(\n",
    "    iterations=150,\n",
    "#     verbose=5,\n",
    ")\n",
    "model.fit(\n",
    "    X_train, y_train,\n",
    "    #cat_features=cat_features,\n",
    "    eval_set=(X_validation, y_validation),\n",
    "    verbose = 3, # уровень подробностей\n",
    "    plot=True\n",
    ")"
   ]
  },
  {
   "cell_type": "code",
   "execution_count": 155,
   "id": "3556162d",
   "metadata": {},
   "outputs": [
    {
     "data": {
      "application/vnd.jupyter.widget-view+json": {
       "model_id": "0552846ee84e41c29e09bbed01166e98",
       "version_major": 2,
       "version_minor": 0
      },
      "text/plain": [
       "MetricVisualizer(layout=Layout(align_self='stretch', height='500px'))"
      ]
     },
     "metadata": {},
     "output_type": "display_data"
    },
    {
     "name": "stdout",
     "output_type": "stream",
     "text": [
      "Training on fold [0/5]\n",
      "\n",
      "bestTest = 0.4403306454\n",
      "bestIteration = 24\n",
      "\n",
      "Training on fold [1/5]\n",
      "\n",
      "bestTest = 0.3394976792\n",
      "bestIteration = 35\n",
      "\n",
      "Training on fold [2/5]\n",
      "\n",
      "bestTest = 0.3893512079\n",
      "bestIteration = 33\n",
      "\n",
      "Training on fold [3/5]\n",
      "\n",
      "bestTest = 0.4881792394\n",
      "bestIteration = 12\n",
      "\n",
      "Training on fold [4/5]\n",
      "\n",
      "bestTest = 0.42027042\n",
      "bestIteration = 35\n",
      "\n"
     ]
    }
   ],
   "source": [
    "# кросс-валидация\n",
    "from catboost import cv\n",
    "\n",
    "params = {}\n",
    "params['loss_function'] = 'Logloss'\n",
    "params['iterations'] = 85\n",
    "params['custom_loss'] = 'AUC'\n",
    "params['random_seed'] = 63\n",
    "params['learning_rate'] = 0.1\n",
    "\n",
    "cv_data = cv(\n",
    "    params = params,\n",
    "    pool = Pool(X, label=y),\n",
    "    fold_count=5,\n",
    "    shuffle=True,\n",
    "    partition_random_seed=0,\n",
    "    stratified=False,\n",
    "    verbose=False,\n",
    "    plot=True\n",
    ")"
   ]
  },
  {
   "cell_type": "code",
   "execution_count": 156,
   "id": "28314574",
   "metadata": {},
   "outputs": [
    {
     "data": {
      "text/html": [
       "<div>\n",
       "<style scoped>\n",
       "    .dataframe tbody tr th:only-of-type {\n",
       "        vertical-align: middle;\n",
       "    }\n",
       "\n",
       "    .dataframe tbody tr th {\n",
       "        vertical-align: top;\n",
       "    }\n",
       "\n",
       "    .dataframe thead th {\n",
       "        text-align: right;\n",
       "    }\n",
       "</style>\n",
       "<table border=\"1\" class=\"dataframe\">\n",
       "  <thead>\n",
       "    <tr style=\"text-align: right;\">\n",
       "      <th></th>\n",
       "      <th>iterations</th>\n",
       "      <th>test-Logloss-mean</th>\n",
       "      <th>test-Logloss-std</th>\n",
       "      <th>train-Logloss-mean</th>\n",
       "      <th>train-Logloss-std</th>\n",
       "      <th>test-AUC-mean</th>\n",
       "      <th>test-AUC-std</th>\n",
       "    </tr>\n",
       "  </thead>\n",
       "  <tbody>\n",
       "    <tr>\n",
       "      <th>0</th>\n",
       "      <td>0</td>\n",
       "      <td>0.640491</td>\n",
       "      <td>0.003886</td>\n",
       "      <td>0.640077</td>\n",
       "      <td>0.002594</td>\n",
       "      <td>0.822791</td>\n",
       "      <td>0.045081</td>\n",
       "    </tr>\n",
       "    <tr>\n",
       "      <th>1</th>\n",
       "      <td>1</td>\n",
       "      <td>0.594229</td>\n",
       "      <td>0.009267</td>\n",
       "      <td>0.590005</td>\n",
       "      <td>0.008149</td>\n",
       "      <td>0.839086</td>\n",
       "      <td>0.044401</td>\n",
       "    </tr>\n",
       "    <tr>\n",
       "      <th>2</th>\n",
       "      <td>2</td>\n",
       "      <td>0.556906</td>\n",
       "      <td>0.013559</td>\n",
       "      <td>0.549542</td>\n",
       "      <td>0.009783</td>\n",
       "      <td>0.855216</td>\n",
       "      <td>0.050239</td>\n",
       "    </tr>\n",
       "    <tr>\n",
       "      <th>3</th>\n",
       "      <td>3</td>\n",
       "      <td>0.528838</td>\n",
       "      <td>0.018535</td>\n",
       "      <td>0.518058</td>\n",
       "      <td>0.010388</td>\n",
       "      <td>0.851642</td>\n",
       "      <td>0.056061</td>\n",
       "    </tr>\n",
       "    <tr>\n",
       "      <th>4</th>\n",
       "      <td>4</td>\n",
       "      <td>0.514702</td>\n",
       "      <td>0.017972</td>\n",
       "      <td>0.502344</td>\n",
       "      <td>0.013025</td>\n",
       "      <td>0.850084</td>\n",
       "      <td>0.055508</td>\n",
       "    </tr>\n",
       "  </tbody>\n",
       "</table>\n",
       "</div>"
      ],
      "text/plain": [
       "   iterations  test-Logloss-mean  test-Logloss-std  train-Logloss-mean  \\\n",
       "0           0           0.640491          0.003886            0.640077   \n",
       "1           1           0.594229          0.009267            0.590005   \n",
       "2           2           0.556906          0.013559            0.549542   \n",
       "3           3           0.528838          0.018535            0.518058   \n",
       "4           4           0.514702          0.017972            0.502344   \n",
       "\n",
       "   train-Logloss-std  test-AUC-mean  test-AUC-std  \n",
       "0           0.002594       0.822791      0.045081  \n",
       "1           0.008149       0.839086      0.044401  \n",
       "2           0.009783       0.855216      0.050239  \n",
       "3           0.010388       0.851642      0.056061  \n",
       "4           0.013025       0.850084      0.055508  "
      ]
     },
     "execution_count": 156,
     "metadata": {},
     "output_type": "execute_result"
    }
   ],
   "source": [
    "cv_data.head()"
   ]
  },
  {
   "cell_type": "markdown",
   "id": "4f0e3ccd",
   "metadata": {},
   "source": [
    "Кажется, с CatBoost качество улучшилось"
   ]
  }
 ],
 "metadata": {
  "kernelspec": {
   "display_name": "Python 3 (ipykernel)",
   "language": "python",
   "name": "python3"
  },
  "language_info": {
   "codemirror_mode": {
    "name": "ipython",
    "version": 3
   },
   "file_extension": ".py",
   "mimetype": "text/x-python",
   "name": "python",
   "nbconvert_exporter": "python",
   "pygments_lexer": "ipython3",
   "version": "3.9.13"
  }
 },
 "nbformat": 4,
 "nbformat_minor": 5
}
